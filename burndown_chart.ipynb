{
 "cells": [
  {
   "cell_type": "markdown",
   "id": "6c4e9352-6402-4b50-8c04-e89248e14a65",
   "metadata": {},
   "source": [
    "# Инциденты СТП"
   ]
  },
  {
   "cell_type": "code",
   "execution_count": 107,
   "id": "14a54093-0ec6-4f66-a0a4-9fc995fa47f6",
   "metadata": {},
   "outputs": [],
   "source": [
    "import pandas as pd\n",
    "from oauth2client.service_account import ServiceAccountCredentials\n",
    "import gspread\n",
    "from datetime import datetime\n",
    "import sqlalchemy\n",
    "import pymysql\n",
    "import warnings\n",
    "import re\n",
    "warnings.filterwarnings(\"ignore\")"
   ]
  },
  {
   "cell_type": "code",
   "execution_count": 108,
   "id": "11b162a5-b2af-4922-bafb-3d7e2782c956",
   "metadata": {},
   "outputs": [],
   "source": [
    "DF15_based = pd.read_excel(\"/home/python3/based_data/stp_based.xlsx\")\n",
    "DF15 = pd.read_excel(\"/home/python3/data_from_bi/ГЗ_3_02 Выгрузка инцидентов.xlsx\", skiprows=3)\n",
    "DF15 = DF15_based.append(DF15).drop_duplicates(subset=['Код инцидента']).reset_index(drop=True)"
   ]
  },
  {
   "cell_type": "markdown",
   "id": "ef8b67f7-2aca-4e0b-a881-74165bc54c03",
   "metadata": {},
   "source": [
    "## Длительность обработки инцидентов СТП"
   ]
  },
  {
   "cell_type": "code",
   "execution_count": 109,
   "id": "af61b05f-8340-4f44-b283-3aadb6890049",
   "metadata": {},
   "outputs": [],
   "source": [
    "def separation(data):\n",
    "    data = data.split('\\n')\n",
    "    return data \n",
    "def separation_2(data):\n",
    "    data = data[1]\n",
    "    data = data.replace('Время \\\"Направлено в группу\\\": ', '')\n",
    "    return data\n",
    "def separation_3(data):\n",
    "    data = data[3]\n",
    "    data = data.replace('Время \\\"Выполнено\\\": ', '')\n",
    "    return data\n",
    "def separation_4(data):\n",
    "    data = data[4]\n",
    "    data = data.replace('Крайний срок: ', '')\n",
    "    return data\n",
    "def separation_5(data):\n",
    "    data = data.split('_')\n",
    "    data = data[0] \n",
    "    return data"
   ]
  },
  {
   "cell_type": "code",
   "execution_count": 110,
   "id": "c4ba365d-5b6a-4a68-8ac3-73c0272bc817",
   "metadata": {},
   "outputs": [],
   "source": [
    "DF15['Даты_2'] = DF15['Даты'].apply(separation)\n",
    "DF15['time_directed_to_group'] = DF15['Даты_2'].apply(separation_2)\n",
    "DF15['time_completed'] = DF15['Даты_2'].apply(separation_3)\n",
    "DF15['deadline'] = DF15['Даты_2'].apply(separation_4)\n",
    "DF15['is_completed'] = DF15['time_completed'] != ''"
   ]
  },
  {
   "cell_type": "code",
   "execution_count": 111,
   "id": "36a80b5a-036b-4812-8af1-b892f90ed7aa",
   "metadata": {},
   "outputs": [],
   "source": [
    "DF15['time_directed_to_group'] = pd.to_datetime(DF15[DF15['time_directed_to_group'] !='']['time_directed_to_group'], format = '%d.%m.%Y %H:%M:%S')\n",
    "DF15['time_completed'] = pd.to_datetime(DF15[DF15['time_completed'] !='']['time_completed'], format = '%d.%m.%Y %H:%M:%S')\n",
    "DF15['deadline'] = pd.to_datetime(DF15[DF15['deadline'] !='']['deadline'], format = '%d.%m.%Y %H:%M:%S')"
   ]
  },
  {
   "cell_type": "code",
   "execution_count": 112,
   "id": "ecbb9215-0f76-4a9b-ab4c-e1fe47beafdc",
   "metadata": {},
   "outputs": [],
   "source": [
    "DF15['duration'] = DF15['time_completed'] - DF15['time_directed_to_group']\n",
    "DF15['delayed'] = DF15['deadline'] - DF15['time_directed_to_group']\n",
    "DF15.loc[DF15['delayed'] > '0 days 00:00:00', 'delayed'] = ''"
   ]
  },
  {
   "cell_type": "code",
   "execution_count": 113,
   "id": "c096871e-bbe8-4b09-81f4-be62360c13aa",
   "metadata": {},
   "outputs": [],
   "source": [
    "DF15['Исполнитель'] = DF15['Исполнитель'].astype(str).apply(separation_5)\n",
    "DF15.loc[DF15['Исполнитель'] == 'nan', 'Исполнитель'] = ''\n",
    "\n",
    "DF15['duration'] = DF15['duration'].dt.total_seconds()\n",
    "DF15['delayed'] = abs(DF15['delayed']).dt.total_seconds()"
   ]
  },
  {
   "cell_type": "code",
   "execution_count": 114,
   "id": "91e08560-da9c-492b-abc0-f23376a30b90",
   "metadata": {},
   "outputs": [],
   "source": [
    "stp = DF15.copy()\n",
    "stp['Дата'] = stp['Даты'].apply(lambda x: pd.to_datetime(x[26:45], format=\"%d.%m.%Y %H:%M:%S\"))\n",
    "stp['Тип работ'] = stp['Тип работ'].fillna('0')\n",
    "stp['session_id'] = stp['Тип работ'].apply(lambda x:\n",
    "                    max([int(e) for e in re.split(\"[^0-9]\", x) if e != ''], default=0))\n",
    "\n",
    "# Убрать при переносе на основной код\n",
    "DF5 = pd.read_excel(\"/home/python3/data_from_bi/ГЗ_1_07 Заказчики.xlsx\", skiprows=2)          \n",
    "DF9 = pd.read_excel(\"/home/python3/data_from_bi/ГЗ_2_01 Выгрузка item.xlsx\", skiprows=2)      \n",
    "DF11 = pd.read_excel(\"/home/python3/data_from_bi/ГЗ_2_03 Выгрузка sessions.xlsx\", skiprows=2) \n",
    "DF11 = DF11.drop(columns='Unnamed: 6')                                                        \n",
    "\n",
    "DF13 = pd.read_csv(\"/home/python3/data_from_bi/ГЗ_2_05 Выгрузка sessions_closed по дате обновления.csv\")\n",
    "DF13.columns = ['id', 'task id', 'status', 'verify code', 'created at', 'user id', 'updated at'] \n",
    "ints = ['id', 'task id', 'status', 'verify code', 'user id']\n",
    "dates = ['created at', 'updated at'] \n",
    "for c in ints:\n",
    "    DF13[c] = DF13[c].astype(int)\n",
    "for c in dates:\n",
    "    DF13[c] = pd.to_datetime(DF13[c], format='%d.%m.%Y %H:%M:%S')\n",
    "DF13_based = pd.read_csv(\"/home/python3/based_data/sessions_closed_based.csv\")\n",
    "ints = ['id', 'task id', 'status', 'verify code', 'user id']\n",
    "dates = ['created at', 'updated at'] \n",
    "for c in ints:\n",
    "    DF13_based[c] = DF13_based[c].astype(int)\n",
    "for c in dates:\n",
    "    DF13_based[c] = pd.to_datetime(DF13_based[c], format='%Y-%m-%d %H:%M:%S')\n",
    "DF13 = DF13_based.append(DF13).drop_duplicates(subset=['id'], keep='last')\n",
    "# ----------------------------------------------------------------------------------------------------------------------------\n",
    "df11 = DF11.copy()\n",
    "df13 = DF11.copy()\n",
    "df13 = DF13.append(df11)\n",
    "df9 = DF9.copy()\n",
    "df5 = DF5.copy()\n",
    "\n",
    "df13 = df13[['id', 'task id']]\n",
    "df13.columns = ['session_id', 'task_id']\n",
    "\n",
    "df9 = df9[['id', 'name', 'customer id']]\n",
    "df9.columns = ['task_id', 'name', 'customer_id']\n",
    "\n",
    "df5 = df5[['id', 'Название заказчика']]\n",
    "df5.columns = ['customer_id', 'Название заказчика']\n",
    "\n",
    "stp = stp.merge(df13, how='left', on='session_id')\n",
    "stp = stp.merge(df9, how='left', on='task_id')\n",
    "stp = stp.merge(df5, how='left', on='customer_id')\n",
    "\n",
    "def set_quartal(month):\n",
    "    q = {\n",
    "    1: 'Q1',\n",
    "    2: 'Q2',\n",
    "    3: 'Q3',\n",
    "    4: 'Q4'}\n",
    "    return q[month//4 + 1]\n",
    "\n",
    "stp['month'] = [str(row.date())[:7] for row in stp['Дата']]\n",
    "stp['quartal'] = [f\"{str(row.year)}-{set_quartal(row.month)}\" for row in stp['Дата']]\n",
    "stp['День'] = [str(row.date())[:11] for row in stp['Дата']]\n"
   ]
  },
  {
   "cell_type": "code",
   "execution_count": 115,
   "id": "54d19457-3c1b-46a1-a3d8-42ec2c8183dd",
   "metadata": {},
   "outputs": [],
   "source": [
    "stp = stp[['Код инцидента', 'Группа услуг', 'Категория', 'услуга', \n",
    "             'Сервис','Исполнитель','time_directed_to_group', \n",
    "             'time_completed', 'deadline', 'is_completed', 'duration', \n",
    "             'delayed', 'Дата', 'session_id', 'task_id', 'name','customer_id', \n",
    "             'Название заказчика', 'month', 'quartal', 'День']]\n",
    "stp.columns = ['incident_code', 'service_group', 'сategory', 'service_1', \n",
    "                'service_2', 'responsible_person', 'time_directed_to_group',\n",
    "                'time_completed', 'deadline', 'is_completed',\t'duration',\t'delayed', \n",
    "                'date', 'session_id', 'task_id', 'name','customer_id', \n",
    "                'customеr_name', 'month', 'quartal', 'day']\n",
    "stp.to_excel(\"/home/python3/Bashir/stp_based.xlsx\", index=False)"
   ]
  },
  {
   "cell_type": "code",
   "execution_count": 116,
   "id": "1d24c878-f2c2-4802-9ebf-97bcad4e0338",
   "metadata": {},
   "outputs": [],
   "source": [
    "#connections settings\n",
    "scope = ['https://spreadsheets.google.com/feeds',\n",
    "         'https://www.googleapis.com/auth/drive']\n",
    "wks_name = 'main'\n",
    "credentials = ServiceAccountCredentials.from_json_keyfile_name('/home/python3/cron_scripts_and_keys/.....json', scope)\n",
    "gc = gspread.authorize(credentials)\n",
    "cnf = {\n",
    "  'user': '',\n",
    "  'password': '',\n",
    "  'host': '',\n",
    "  'database': ''\n",
    "}\n",
    "connection = sqlalchemy.create_engine(f\"mysql+pymysql://{cnf['user']}:{cnf['password']}@{cnf['host']}/{cnf['database']}\")"
   ]
  },
  {
   "cell_type": "code",
   "execution_count": 117,
   "id": "149970c0-a6c7-4be4-a7ea-44563d69eb80",
   "metadata": {},
   "outputs": [
    {
     "data": {
      "text/plain": [
       "9854"
      ]
     },
     "execution_count": 117,
     "metadata": {},
     "output_type": "execute_result"
    }
   ],
   "source": [
    "stp.to_sql(con=connection, name='stp_burndown', if_exists='replace')"
   ]
  }
 ],
 "metadata": {
  "kernelspec": {
   "display_name": "Python 3 (ipykernel)",
   "language": "python",
   "name": "python3"
  },
  "language_info": {
   "codemirror_mode": {
    "name": "ipython",
    "version": 3
   },
   "file_extension": ".py",
   "mimetype": "text/x-python",
   "name": "python",
   "nbconvert_exporter": "python",
   "pygments_lexer": "ipython3",
   "version": "3.9.12"
  }
 },
 "nbformat": 4,
 "nbformat_minor": 5
}
